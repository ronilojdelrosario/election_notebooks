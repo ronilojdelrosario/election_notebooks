{
 "cells": [
  {
   "cell_type": "code",
   "execution_count": 1,
   "id": "572babab-6265-4101-9576-d3a1c688c5b0",
   "metadata": {},
   "outputs": [],
   "source": [
    "import pandas as pd\n",
    "import requests\n",
    "import json\n",
    "import os"
   ]
  },
  {
   "cell_type": "code",
   "execution_count": 2,
   "id": "dc811542-d909-4f2b-8763-90176d72db68",
   "metadata": {},
   "outputs": [],
   "source": [
    "# Base folder for data\n",
    "data_path = '..//data//'\n",
    "\n",
    "# Folders for city-wide/provincial/regional senatorial election results\n",
    "results_cty_path = '..//data//results_cty//'\n",
    "results_prv_path = '..//data//results_prv//'\n",
    "results_reg_path = '..//data//results_reg//'\n",
    "\n",
    "# Folder for summarized results datasets\n",
    "summary_path = '..//data//results_summary//'"
   ]
  },
  {
   "cell_type": "code",
   "execution_count": 3,
   "id": "938967d2-e399-44f7-ba11-30bf66192042",
   "metadata": {},
   "outputs": [],
   "source": [
    "# Listing all successfully downloaded data\n",
    "file_list_cty = os.listdir(results_cty_path)\n",
    "file_list_prv = os.listdir(results_prv_path)\n",
    "file_list_reg = os.listdir(results_reg_path)"
   ]
  },
  {
   "cell_type": "markdown",
   "id": "8de0a683-6539-4674-afa6-cf234466e25d",
   "metadata": {},
   "source": [
    "## Format national results"
   ]
  },
  {
   "cell_type": "code",
   "execution_count": 4,
   "id": "f8421a85-b8f1-46d4-849a-c91bd9165e2a",
   "metadata": {},
   "outputs": [],
   "source": [
    "with open(os.path.join(data_path,'SENATOR_OF_PHILIPPINES.json'),\"r\") as f:\n",
    "    nat_json = json.load(f)\n",
    "nat_entries = nat_json[\"result\"][0][\"candidates\"]\n",
    "nat_df = pd.DataFrame(nat_entries)\n",
    "\n",
    "nat_df[[\"party_full\",\"party_code\"]] = nat_df['party'].str.split(\"|\",n=2,expand=True)\n",
    "nat_df = nat_df.reset_index().rename(columns={'index':'cand_id'})  # Assigning arbitrary unique ID for each candidate "
   ]
  },
  {
   "cell_type": "code",
   "execution_count": 5,
   "id": "18402396-86bb-44a1-a313-97a6ca496049",
   "metadata": {},
   "outputs": [],
   "source": [
    "# Saving the file\n",
    "nat_df.to_csv(os.path.join(summary_path,'national.csv'),index=False)\n",
    "nat_df.drop(columns='vote_count').to_csv(os.path.join(summary_path,'sen_details.csv'),index=False)"
   ]
  },
  {
   "cell_type": "markdown",
   "id": "ecb1ed10-f35f-4579-8040-5e68434c9f61",
   "metadata": {},
   "source": [
    "## Format regional results"
   ]
  },
  {
   "cell_type": "code",
   "execution_count": 6,
   "id": "4a6dc668-4630-46b8-9767-2d0a175e1115",
   "metadata": {},
   "outputs": [],
   "source": [
    "### Conversion dictionary from candidate's name to arbitrarily assigned unique ID\n",
    "conv_name_id = {x:y for x,y in zip(nat_df['name'],nat_df['cand_id'])}"
   ]
  },
  {
   "cell_type": "code",
   "execution_count": 7,
   "id": "a8ce1614-e32f-412b-a1ea-b80fabbaddea",
   "metadata": {},
   "outputs": [],
   "source": [
    "reg_data = []\n",
    "reg_det_data = []\n",
    "counter = 0        # For assigning arbitrary unique ID to each region\n",
    "for file in file_list_reg:\n",
    "    with open(os.path.join(results_reg_path,file)) as f:\n",
    "        temp_json = json.load(f)\n",
    "\n",
    "    # Summarizing details for each region (region ID, region name, total voters processed)\n",
    "    reg_det_data.append({'reg_id':counter,'reg_name':temp_json[\"location_code\"],'total_voters_processed':int(temp_json['total_voters_processed'].split(\"/\")[0])})\n",
    "\n",
    "    # Summarizing results for each region and for each candidate (region ID, candidate ID, vote count)\n",
    "    reg_data += [{'reg_id':counter,'cand_id':conv_name_id[x['name']],'vote_count':x['vote_count']} \\\n",
    "                 for x in temp_json['result'][0][\"candidates\"]]\n",
    "    \n",
    "    counter+=1"
   ]
  },
  {
   "cell_type": "code",
   "execution_count": 8,
   "id": "1f7f722a-592f-429a-8478-a99be7cf9dde",
   "metadata": {},
   "outputs": [],
   "source": [
    "### Conversion to dataframe and saving of the details of the regions and summarized election results\n",
    "reg_det_df = pd.DataFrame(reg_det_data)\n",
    "reg_df = pd.DataFrame(reg_data)\n",
    "\n",
    "reg_det_df.to_csv(os.path.join(summary_path,'region_details.csv'),index=False)\n",
    "reg_df.to_csv(os.path.join(summary_path,'regional.csv'),index=False)"
   ]
  },
  {
   "cell_type": "markdown",
   "id": "bd9382f8-9a32-4856-b55b-0a3fb3ca70bd",
   "metadata": {},
   "source": [
    "## Format provincial results"
   ]
  },
  {
   "cell_type": "code",
   "execution_count": 9,
   "id": "43dd3d76-494c-482d-90ec-0c3893b78d7f",
   "metadata": {},
   "outputs": [],
   "source": [
    "prv_data = []\n",
    "prv_det_data = []\n",
    "counter = 0        # For assigning arbitrary unique ID to each province\n",
    "for file in file_list_prv:\n",
    "    with open(os.path.join(results_prv_path,file)) as f:\n",
    "        temp_json = json.load(f)\n",
    "\n",
    "    # Summarizing details for each province (province ID, province's location code, total voters processed)\n",
    "    prv_det_data.append({'prv_id':counter,'location_code':temp_json[\"location_code\"],'total_voters_processed':int(temp_json['total_voters_processed'].split(\"/\")[0])})\n",
    "\n",
    "    # Summarizing results for each province and for each candidate (province ID, candidate ID, vote count)\n",
    "    prv_data += [{'prv_id':counter,'cand_id':conv_name_id[x['name']],'vote_count':x['vote_count']} \\\n",
    "                 for x in temp_json['result'][0][\"candidates\"]]\n",
    "    \n",
    "    counter+=1"
   ]
  },
  {
   "cell_type": "code",
   "execution_count": 10,
   "id": "1ba79e95-0341-4ff7-9b30-134b651822c8",
   "metadata": {},
   "outputs": [],
   "source": [
    "### Conversion to dataframe and saving of the details of the provinces and summarized election results\n",
    "prv_det_df = pd.DataFrame(prv_det_data)\n",
    "prv_df = pd.DataFrame(prv_data)\n",
    "\n",
    "# Further division of location code to region name and province name\n",
    "prv_det_df[['reg_name','prv_name']] = prv_det_df['location_code'].str.split('|',n=2,expand=True)\n",
    "\n",
    "prv_det_df.to_csv(os.path.join(summary_path,'province_details.csv'),index=False)\n",
    "prv_df.to_csv(os.path.join(summary_path,'provincial.csv'),index=False)"
   ]
  },
  {
   "cell_type": "markdown",
   "id": "7e10578c-74a0-4099-80fc-5694974ff798",
   "metadata": {},
   "source": [
    "## Format municipal/city-wide results"
   ]
  },
  {
   "cell_type": "code",
   "execution_count": 11,
   "id": "9b689ad4-046a-4c2c-a697-6471e5514a23",
   "metadata": {},
   "outputs": [],
   "source": [
    "cty_data = []\n",
    "cty_det_data = []\n",
    "counter = 0        # For assigning arbitrary unique ID to each city/municipality\n",
    "for file in file_list_cty:\n",
    "    with open(os.path.join(results_cty_path,file)) as f:\n",
    "        temp_json = json.load(f)\n",
    "\n",
    "    # Summarizing details for each city/mun (city ID, city's location code, total voters processed)\n",
    "    cty_det_data.append({'cty_id':counter,'location_code':temp_json[\"location_code\"],'total_voters_processed':int(temp_json['total_voters_processed'].split(\"/\")[0])})\n",
    "\n",
    "    # Summarizing results for each city and for each candidate (city ID, candidate ID, vote count)\n",
    "    cty_data += [{'cty_id':counter,'cand_id':conv_name_id[x['name']],'vote_count':x['vote_count']} \\\n",
    "                 for x in temp_json['result'][0][\"candidates\"]]\n",
    "    \n",
    "    counter+=1"
   ]
  },
  {
   "cell_type": "code",
   "execution_count": 12,
   "id": "762c2e7c-ad54-4809-ab64-dedb461636d5",
   "metadata": {},
   "outputs": [],
   "source": [
    "### Conversion to dataframe and saving of the details of the cities/municipalities and summarized election results\n",
    "cty_det_df = pd.DataFrame(cty_det_data)\n",
    "cty_df = pd.DataFrame(cty_data)\n",
    "\n",
    "# Further division of location code to region name, province name and city name\n",
    "cty_det_df[['reg_name','prv_name','cty_name']] = cty_det_df['location_code'].str.split('|',n=3,expand=True)\n",
    "\n",
    "cty_det_df.to_csv(os.path.join(summary_path,'city_details.csv'),index=False)\n",
    "cty_df.to_csv(os.path.join(summary_path,'city.csv'),index=False)"
   ]
  },
  {
   "cell_type": "code",
   "execution_count": null,
   "id": "05297555-266a-4a37-84f3-57c3e04d479e",
   "metadata": {},
   "outputs": [],
   "source": []
  }
 ],
 "metadata": {
  "kernelspec": {
   "display_name": "Python 3 (ipykernel)",
   "language": "python",
   "name": "python3"
  },
  "language_info": {
   "codemirror_mode": {
    "name": "ipython",
    "version": 3
   },
   "file_extension": ".py",
   "mimetype": "text/x-python",
   "name": "python",
   "nbconvert_exporter": "python",
   "pygments_lexer": "ipython3",
   "version": "3.13.3"
  }
 },
 "nbformat": 4,
 "nbformat_minor": 5
}
