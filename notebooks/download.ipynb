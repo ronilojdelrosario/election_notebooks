{
 "cells": [
  {
   "cell_type": "code",
   "execution_count": 1,
   "id": "dc9f72c1-da06-41ec-a487-2fe078ef3964",
   "metadata": {},
   "outputs": [],
   "source": [
    "import requests\n",
    "import json\n",
    "import time\n",
    "import os\n",
    "import re"
   ]
  },
  {
   "cell_type": "code",
   "execution_count": 2,
   "id": "2ef0a463-50c7-4822-9575-e926d2cb5631",
   "metadata": {},
   "outputs": [],
   "source": [
    "# Download paths for different datasets\n",
    "data_path = '..//data//'\n",
    "results_cty_path = '..//data//results_cty//'\n",
    "results_prv_path = '..//data//results_prv//'\n",
    "results_reg_path = '..//data//results_reg//'\n",
    "\n",
    "# URL for list of regions and URL of the directory for regional geolocation datasets\n",
    "regions_url = 'https://eleksyonconfig.gmanetwork.com/gno/microsites/eleksyon2025/results/ref/NO/geolocation_REGION.json'\n",
    "per_region_info_url = 'https://data2.gmanetwork.com/gno/microsites/eleksyon2025/results/locations/regions/'\n",
    "\n",
    "# Format for geolocation datasets\n",
    "per_region_info_fnstart = 'geolocation_'\n",
    "\n",
    "# Directory URL for election results data\n",
    "results_url = 'https://e25a-cf.gmanetwork.com/l/'"
   ]
  },
  {
   "cell_type": "markdown",
   "id": "1ac1cd3d-be44-4d0f-bec2-feda27570018",
   "metadata": {},
   "source": [
    "## Downloading list of regions"
   ]
  },
  {
   "cell_type": "code",
   "execution_count": 3,
   "id": "73ff36e1-5b2e-4a11-899e-f1baf013b401",
   "metadata": {},
   "outputs": [],
   "source": [
    "# Download list of regions\n",
    "regions_json_path = os.path.join(data_path,\"geolocation_REGION.json\")\n",
    "if not os.path.isfile(regions_json_path):  # If the file was not already downloaded, download.\n",
    "    with open(regions_json_path,\"w\") as f:\n",
    "        r = requests.get(regions_url)\n",
    "        print(r.status_code)\n",
    "        f.write(r.text)"
   ]
  },
  {
   "cell_type": "markdown",
   "id": "7445a71e-36cf-4622-bbad-a8eed184ed84",
   "metadata": {},
   "source": [
    "## Download administrative subunits per region"
   ]
  },
  {
   "cell_type": "code",
   "execution_count": 4,
   "id": "d27a196e-7502-49ad-bba1-6242e47fc847",
   "metadata": {},
   "outputs": [
    {
     "name": "stdout",
     "output_type": "stream",
     "text": [
      "{'REGION': ['BARMM', 'CORDILLERA ADMINISTRATIVE REGION', 'NATIONAL CAPITAL REGION', 'NIR', 'OAV', 'REGION I', 'REGION II', 'REGION III', 'REGION IV-A', 'REGION IV-B', 'REGION V', 'REGION VI', 'REGION VII', 'REGION VIII', 'REGION IX', 'REGION X', 'REGION XI', 'REGION XII', 'REGION XIII'], 'registered_voters': '69773653'}\n"
     ]
    }
   ],
   "source": [
    "# Open downloaded regions file\n",
    "with open(regions_json_path,\"r\") as f:\n",
    "    regions_json = json.load(f)\n",
    "print(regions_json)"
   ]
  },
  {
   "cell_type": "code",
   "execution_count": 5,
   "id": "9f8743ae-a0df-4496-9d66-bc0a888fe95a",
   "metadata": {},
   "outputs": [],
   "source": [
    "# Download geolocation data for each region\n",
    "for reg in regions_json['REGION']:\n",
    "    fname = f\"geolocation_{reg.replace(\" \",\"_\")}.json\"\n",
    "    if not os.path.isfile(os.path.join(data_path,fname)):\n",
    "        with open(os.path.join(data_path,fname),\"w\") as f:\n",
    "            r = requests.get(per_region_info_url+fname)\n",
    "            print(reg,r.status_code)\n",
    "            f.write(r.text)"
   ]
  },
  {
   "cell_type": "markdown",
   "id": "794891a4-c986-418b-b519-336f21345751",
   "metadata": {},
   "source": [
    "## Download election results"
   ]
  },
  {
   "cell_type": "code",
   "execution_count": 6,
   "id": "29c55f2e-5006-49f9-bfa2-9d240516125b",
   "metadata": {},
   "outputs": [
    {
     "name": "stdout",
     "output_type": "stream",
     "text": [
      "{'REGION': ['BARMM', 'CORDILLERA ADMINISTRATIVE REGION', 'NATIONAL CAPITAL REGION', 'NIR', 'OAV', 'REGION I', 'REGION II', 'REGION III', 'REGION IV-A', 'REGION IV-B', 'REGION V', 'REGION VI', 'REGION VII', 'REGION VIII', 'REGION IX', 'REGION X', 'REGION XI', 'REGION XII', 'REGION XIII'], 'registered_voters': '69773653'}\n"
     ]
    }
   ],
   "source": [
    "# Open downloaded regions file\n",
    "with open(regions_json_path,\"r\") as f:\n",
    "    regions_json = json.load(f)\n",
    "print(regions_json)"
   ]
  },
  {
   "cell_type": "code",
   "execution_count": 7,
   "id": "3cd9e574-3507-4688-b8b1-e52cc699534f",
   "metadata": {},
   "outputs": [],
   "source": [
    "# Create download function\n",
    "def download_file(fname,dir_url=results_url,fpath=data_path):\n",
    "    if not os.path.isfile(os.path.join(fpath,fname)):\n",
    "        r = requests.get(dir_url+fname)\n",
    "        if r.status_code != 200:\n",
    "            print(\"Error: \",fname)\n",
    "            return\n",
    "        with open(os.path.join(fpath,fname),\"w\") as f:\n",
    "            f.write(r.text)"
   ]
  },
  {
   "cell_type": "code",
   "execution_count": 8,
   "id": "3b17b466-029d-44e8-9a2b-f28b5575005e",
   "metadata": {},
   "outputs": [],
   "source": [
    "# Convert webpage link property to json file link\n",
    "def link_to_name(link):\n",
    "    temp = \"_\".join(link.split(\"/\")[4:-1]).replace(\"+\",\"_\")\n",
    "    temp2 = re.sub(r'(%\\w{4})+','_',temp)\n",
    "    return temp2 + '.json'"
   ]
  },
  {
   "cell_type": "code",
   "execution_count": 9,
   "id": "750aee8c-4daa-43f1-aaed-53e6d52a2b32",
   "metadata": {},
   "outputs": [
    {
     "name": "stdout",
     "output_type": "stream",
     "text": [
      "Error:  BARMM_BASILAN_HADJI_MUHTAMAD.json\n",
      "Error:  BARMM_LANAO_DEL_SUR_BAYANG.json\n",
      "Error:  BARMM_LANAO_DEL_SUR_MAGUING.json\n",
      "Error:  BARMM_LANAO_DEL_SUR_PAGAYAWAN.json\n",
      "Error:  BARMM_LANAO_DEL_SUR_SULTAN_DUMALONDONG.json\n",
      "Error:  BARMM_LANAO_DEL_SUR_TAGOLOAN.json\n",
      "Error:  OAV_EUROPE_RUSSIA.json\n",
      "Error:  OAV_MIDDLE_EAST_AND_AFRICAS_IRAN.json\n",
      "Error:  OAV_MIDDLE_EAST_AND_AFRICAS_SYRIA.json\n",
      "Error:  REGION_IX_SULU_PANGUTARAN.json\n"
     ]
    }
   ],
   "source": [
    "### Download election results data from regional-level > provincial > city-wide\n",
    "# Iterate over regions\n",
    "for reg in regions_json['REGION']:\n",
    "    with open(os.path.join(data_path,f\"geolocation_{reg.replace(\" \",\"_\")}.json\"),\"r\") as f:\n",
    "        reg_json = json.load(f)\n",
    "    name = link_to_name(reg_json['region']['link'])\n",
    "    download_file(name,fpath=results_reg_path)\n",
    "\n",
    "    # Iterate over provinces\n",
    "    for prov in reg_json['region']['provinces']:\n",
    "        name = link_to_name(prov['link'])\n",
    "        download_file(name,fpath=results_prv_path)\n",
    "\n",
    "        # Iterate over cities/municipalities\n",
    "        for cty in prov['cities']:\n",
    "            name = link_to_name(cty['link'])\n",
    "            download_file(name,fpath=results_cty_path)"
   ]
  },
  {
   "cell_type": "markdown",
   "id": "9428d5c1-d5e8-42be-9348-012b3bebb080",
   "metadata": {},
   "source": [
    "## Download national results"
   ]
  },
  {
   "cell_type": "code",
   "execution_count": 11,
   "id": "2204ffce-fb7c-4945-bccc-488519517d8f",
   "metadata": {},
   "outputs": [
    {
     "name": "stdout",
     "output_type": "stream",
     "text": [
      "200\n"
     ]
    }
   ],
   "source": [
    "if not os.path.isfile(os.path.join(data_path,'SENATOR_OF_PHILIPPINES.json')):\n",
    "    r = requests.get('https://e25a-cf.gmanetwork.com/n/SENATOR_OF_PHILIPPINES.json')\n",
    "    print(r.status_code)\n",
    "    with open(os.path.join(data_path,'SENATOR_OF_PHILIPPINES.json'),\"w\") as f:\n",
    "        f.write(r.text)"
   ]
  },
  {
   "cell_type": "code",
   "execution_count": null,
   "id": "ea449fba-1de3-4929-9129-992db42b4134",
   "metadata": {},
   "outputs": [],
   "source": []
  }
 ],
 "metadata": {
  "kernelspec": {
   "display_name": "Python 3 (ipykernel)",
   "language": "python",
   "name": "python3"
  },
  "language_info": {
   "codemirror_mode": {
    "name": "ipython",
    "version": 3
   },
   "file_extension": ".py",
   "mimetype": "text/x-python",
   "name": "python",
   "nbconvert_exporter": "python",
   "pygments_lexer": "ipython3",
   "version": "3.13.3"
  }
 },
 "nbformat": 4,
 "nbformat_minor": 5
}
